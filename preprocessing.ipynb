{
 "cells": [
  {
   "cell_type": "code",
   "execution_count": 1,
   "metadata": {},
   "outputs": [],
   "source": [
    "import logging\n",
    "\n",
    "\n",
    "def get_most_frequent_response(input_statement, response_list):\n",
    "    \"\"\"\n",
    "    :param input_statement: A statement, that closely matches an input to the chat bot.\n",
    "    :type input_statement: Statement\n",
    "    :param response_list: A list of statement options to choose a response from.\n",
    "    :type response_list: list\n",
    "    :return: The response statement with the greatest number of occurrences.\n",
    "    :rtype: Statement\n",
    "    \"\"\"\n",
    "    matching_response = None\n",
    "    occurrence_count = -1\n",
    "\n",
    "    logger = logging.getLogger(__name__)\n",
    "    logger.info(u'Selecting response with greatest number of occurrences.')\n",
    "\n",
    "    for statement in response_list:\n",
    "        count = statement.get_response_count(input_statement)\n",
    "\n",
    "        # Keep the more common statement\n",
    "        if count >= occurrence_count:\n",
    "            matching_response = statement\n",
    "            occurrence_count = count\n",
    "\n",
    "    # Choose the most commonly occuring matching response\n",
    "    return matching_response\n",
    "\n",
    "\n",
    "def get_first_response(input_statement, response_list):\n",
    "    \"\"\"\n",
    "    :param input_statement: A statement, that closely matches an input to the chat bot.\n",
    "    :type input_statement: Statement\n",
    "    :param response_list: A list of statement options to choose a response from.\n",
    "    :type response_list: list\n",
    "    :return: Return the first statement in the response list.\n",
    "    :rtype: Statement\n",
    "    \"\"\"\n",
    "    logger = logging.getLogger(__name__)\n",
    "    logger.info(u'Selecting first response from list of {} options.'.format(\n",
    "        len(response_list)\n",
    "    ))\n",
    "    return response_list[0]\n",
    "\n",
    "\n",
    "def get_random_response(input_statement, response_list):\n",
    "    \"\"\"\n",
    "    :param input_statement: A statement, that closely matches an input to the chat bot.\n",
    "    :type input_statement: Statement\n",
    "    :param response_list: A list of statement options to choose a response from.\n",
    "    :type response_list: list\n",
    "    :return: Choose a random response from the selection.\n",
    "    :rtype: Statement\n",
    "    \"\"\"\n",
    "    from random import choice\n",
    "    logger = logging.getLogger(__name__)\n",
    "    logger.info(u'Selecting a response from list of {} options.'.format(\n",
    "        len(response_list)\n",
    "    ))\n",
    "    return choice(response_list)"
   ]
  },
  {
   "cell_type": "code",
   "execution_count": 4,
   "metadata": {},
   "outputs": [
    {
     "data": {
      "text/plain": [
       "'thinking about you'"
      ]
     },
     "execution_count": 4,
     "metadata": {},
     "output_type": "execute_result"
    }
   ],
   "source": [
    "get_random_response('how are you',[\"i am good\",\"doing well\",\"missing you\",\"thinking about you\"])"
   ]
  },
  {
   "cell_type": "code",
   "execution_count": 6,
   "metadata": {},
   "outputs": [
    {
     "data": {
      "text/plain": [
       "'i am good'"
      ]
     },
     "execution_count": 6,
     "metadata": {},
     "output_type": "execute_result"
    }
   ],
   "source": [
    "get_first_response('how are you',[\"i am good\",\"doing well\",\"missing you\",\"thinking about you\"])"
   ]
  },
  {
   "cell_type": "code",
   "execution_count": null,
   "metadata": {},
   "outputs": [],
   "source": [
    "a= pd.read_csv(\"/home/technosoft/Answers.csv\")\n",
    "answer= a[\"Body\"]\n",
    "answer"
   ]
  },
  {
   "cell_type": "code",
   "execution_count": null,
   "metadata": {},
   "outputs": [],
   "source": [
    "c=[]\n",
    "for i in question:\n",
    "    i = i.replace('<p>', '').replace('</p>', '').replace('<ul>','').replace('</ul>','').replace('\"','')\n",
    "    c.append(i)\n",
    "c"
   ]
  },
  {
   "cell_type": "code",
   "execution_count": null,
   "metadata": {},
   "outputs": [],
   "source": []
  },
  {
   "cell_type": "code",
   "execution_count": null,
   "metadata": {},
   "outputs": [],
   "source": []
  },
  {
   "cell_type": "code",
   "execution_count": null,
   "metadata": {},
   "outputs": [],
   "source": []
  }
 ],
 "metadata": {
  "kernelspec": {
   "display_name": "Python 2",
   "language": "python",
   "name": "python2"
  },
  "language_info": {
   "codemirror_mode": {
    "name": "ipython",
    "version": 2
   },
   "file_extension": ".py",
   "mimetype": "text/x-python",
   "name": "python",
   "nbconvert_exporter": "python",
   "pygments_lexer": "ipython2",
   "version": "2.7.12+"
  }
 },
 "nbformat": 4,
 "nbformat_minor": 2
}
